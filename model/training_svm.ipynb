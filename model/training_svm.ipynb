{
  "cells": [
    {
      "cell_type": "code",
      "execution_count": 1,
      "metadata": {
        "colab": {
          "base_uri": "https://localhost:8080/"
        },
        "id": "-Yd2KizFrgH6",
        "outputId": "d4437c92-ad49-4c3d-b0ce-4bee2e115904"
      },
      "outputs": [
        {
          "output_type": "stream",
          "name": "stdout",
          "text": [
            "Mounted at /content/drive\n"
          ]
        }
      ],
      "source": [
        "from google.colab import drive \n",
        "drive.mount('/content/drive')"
      ]
    },
    {
      "cell_type": "code",
      "execution_count": 2,
      "metadata": {
        "id": "MXUsVe_IqZQi",
        "colab": {
          "base_uri": "https://localhost:8080/"
        },
        "outputId": "809e8afe-2eab-4d52-9115-21d7db92f740"
      },
      "outputs": [
        {
          "output_type": "stream",
          "name": "stdout",
          "text": [
            "--2022-04-18 05:50:19--  http://setup.johnsnowlabs.com/colab.sh\n",
            "Resolving setup.johnsnowlabs.com (setup.johnsnowlabs.com)... 51.158.130.125\n",
            "Connecting to setup.johnsnowlabs.com (setup.johnsnowlabs.com)|51.158.130.125|:80... connected.\n",
            "HTTP request sent, awaiting response... 302 Found\n",
            "Location: https://setup.johnsnowlabs.com/colab.sh [following]\n",
            "--2022-04-18 05:50:20--  https://setup.johnsnowlabs.com/colab.sh\n",
            "Connecting to setup.johnsnowlabs.com (setup.johnsnowlabs.com)|51.158.130.125|:443... connected.\n",
            "HTTP request sent, awaiting response... 302 Moved Temporarily\n",
            "Location: https://raw.githubusercontent.com/JohnSnowLabs/spark-nlp/master/scripts/colab_setup.sh [following]\n",
            "--2022-04-18 05:50:21--  https://raw.githubusercontent.com/JohnSnowLabs/spark-nlp/master/scripts/colab_setup.sh\n",
            "Resolving raw.githubusercontent.com (raw.githubusercontent.com)... 185.199.108.133, 185.199.111.133, 185.199.109.133, ...\n",
            "Connecting to raw.githubusercontent.com (raw.githubusercontent.com)|185.199.108.133|:443... connected.\n",
            "HTTP request sent, awaiting response... 200 OK\n",
            "Length: 1453 (1.4K) [text/plain]\n",
            "Saving to: ‘STDOUT’\n",
            "\n",
            "-                   100%[===================>]   1.42K  --.-KB/s    in 0s      \n",
            "\n",
            "2022-04-18 05:50:21 (42.8 MB/s) - written to stdout [1453/1453]\n",
            "\n",
            "setup Colab for PySpark 3.0.3 and Spark NLP 3.4.3\n",
            "Installing PySpark 3.0.3 and Spark NLP 3.4.3\n",
            "\u001b[K     |████████████████████████████████| 209.1 MB 44 kB/s \n",
            "\u001b[K     |████████████████████████████████| 144 kB 81.8 MB/s \n",
            "\u001b[K     |████████████████████████████████| 198 kB 83.8 MB/s \n",
            "\u001b[?25h  Building wheel for pyspark (setup.py) ... \u001b[?25l\u001b[?25hdone\n"
          ]
        }
      ],
      "source": [
        "!wget http://setup.johnsnowlabs.com/colab.sh -O - | bash"
      ]
    },
    {
      "cell_type": "code",
      "execution_count": 3,
      "metadata": {
        "id": "swOTzBy4r2mf"
      },
      "outputs": [],
      "source": [
        "import pandas as pd\n",
        "from sparknlp.base import *\n",
        "from sparknlp.annotator import *\n",
        "from pyspark.sql.functions import *\n",
        "from pyspark.ml.feature import HashingTF\n",
        "from pyspark.ml.feature import IDF\n",
        "from pyspark.ml.pipeline import PipelineModel\n",
        "from pyspark.ml.classification import LogisticRegression\n",
        "from sklearn.metrics import classification_report, accuracy_score, f1_score"
      ]
    },
    {
      "cell_type": "code",
      "execution_count": 4,
      "metadata": {
        "id": "166R6t84X0Ib",
        "colab": {
          "base_uri": "https://localhost:8080/"
        },
        "outputId": "0abae5fc-1d7f-4753-f128-81a90c011ab0"
      },
      "outputs": [
        {
          "output_type": "stream",
          "name": "stdout",
          "text": [
            "Mon Apr 18 05:50:55 2022       \n",
            "+-----------------------------------------------------------------------------+\n",
            "| NVIDIA-SMI 460.32.03    Driver Version: 460.32.03    CUDA Version: 11.2     |\n",
            "|-------------------------------+----------------------+----------------------+\n",
            "| GPU  Name        Persistence-M| Bus-Id        Disp.A | Volatile Uncorr. ECC |\n",
            "| Fan  Temp  Perf  Pwr:Usage/Cap|         Memory-Usage | GPU-Util  Compute M. |\n",
            "|                               |                      |               MIG M. |\n",
            "|===============================+======================+======================|\n",
            "|   0  Tesla T4            Off  | 00000000:00:04.0 Off |                    0 |\n",
            "| N/A   38C    P8     9W /  70W |      0MiB / 15109MiB |      0%      Default |\n",
            "|                               |                      |                  N/A |\n",
            "+-------------------------------+----------------------+----------------------+\n",
            "                                                                               \n",
            "+-----------------------------------------------------------------------------+\n",
            "| Processes:                                                                  |\n",
            "|  GPU   GI   CI        PID   Type   Process name                  GPU Memory |\n",
            "|        ID   ID                                                   Usage      |\n",
            "|=============================================================================|\n",
            "|  No running processes found                                                 |\n",
            "+-----------------------------------------------------------------------------+\n"
          ]
        }
      ],
      "source": [
        "gpu_info = !nvidia-smi\n",
        "gpu_info = '\\n'.join(gpu_info)\n",
        "if gpu_info.find('failed') >= 0:\n",
        "  print('Not connected to a GPU')\n",
        "else:\n",
        "  print(gpu_info)"
      ]
    },
    {
      "cell_type": "code",
      "execution_count": 5,
      "metadata": {
        "id": "Ovdaca2_ql8v",
        "colab": {
          "base_uri": "https://localhost:8080/"
        },
        "outputId": "93aee52a-a5c3-46a1-fa0c-7aa122c134b3"
      },
      "outputs": [
        {
          "output_type": "stream",
          "name": "stdout",
          "text": [
            "Spark NLP version: 3.4.3\n",
            "Apache Spark version: 3.0.3\n"
          ]
        }
      ],
      "source": [
        "import sparknlp\n",
        "spark = sparknlp.start(gpu=True)\n",
        "spark\n",
        "\n",
        "print(\"Spark NLP version: {}\".format(sparknlp.version()))\n",
        "print(\"Apache Spark version: {}\".format(spark.version))"
      ]
    },
    {
      "cell_type": "code",
      "execution_count": 9,
      "metadata": {
        "id": "btVXxt7urPFa"
      },
      "outputs": [],
      "source": [
        "input_path = \"/content/drive/MyDrive/BigData/Data/Tweets_SG_HK_AUS/HKTweetsHydrated.csv\"\n",
        "df = pd.read_csv(input_path)"
      ]
    },
    {
      "cell_type": "markdown",
      "source": [
        "# Preprocessing"
      ],
      "metadata": {
        "id": "sNuzqFDDMcXT"
      }
    },
    {
      "cell_type": "code",
      "execution_count": 10,
      "metadata": {
        "id": "sLnNlWmgr6Lt",
        "colab": {
          "base_uri": "https://localhost:8080/"
        },
        "outputId": "0afedcbc-2241-401b-a067-1d9951eac7a6"
      },
      "outputs": [
        {
          "output_type": "execute_result",
          "data": {
            "text/plain": [
              "tweet_id                   0\n",
              "user_id                    0\n",
              "tweet_timestamp            0\n",
              "keyword                    0\n",
              "country/region             0\n",
              "valence_intensity          0\n",
              "fear_intensity             0\n",
              "anger_intensity            0\n",
              "happiness_intensity        0\n",
              "sadness_intensity          0\n",
              "sentiment                  0\n",
              "emotion                    0\n",
              "text                   22761\n",
              "dtype: int64"
            ]
          },
          "metadata": {},
          "execution_count": 10
        }
      ],
      "source": [
        "df.isnull().sum()"
      ]
    },
    {
      "cell_type": "code",
      "execution_count": 11,
      "metadata": {
        "id": "-A_5F_1PsIjP"
      },
      "outputs": [],
      "source": [
        "df_updated = df.dropna()"
      ]
    },
    {
      "cell_type": "code",
      "execution_count": 12,
      "metadata": {
        "id": "xWuD95KhsNxy",
        "colab": {
          "base_uri": "https://localhost:8080/"
        },
        "outputId": "154da877-0eb2-4acf-c33e-fd85ec954be8"
      },
      "outputs": [
        {
          "output_type": "execute_result",
          "data": {
            "text/plain": [
              "tweet_id               0\n",
              "user_id                0\n",
              "tweet_timestamp        0\n",
              "keyword                0\n",
              "country/region         0\n",
              "valence_intensity      0\n",
              "fear_intensity         0\n",
              "anger_intensity        0\n",
              "happiness_intensity    0\n",
              "sadness_intensity      0\n",
              "sentiment              0\n",
              "emotion                0\n",
              "text                   0\n",
              "dtype: int64"
            ]
          },
          "metadata": {},
          "execution_count": 12
        }
      ],
      "source": [
        "df_updated.isnull().sum()"
      ]
    },
    {
      "cell_type": "code",
      "execution_count": 13,
      "metadata": {
        "id": "xSzdtgUOsgI1",
        "colab": {
          "base_uri": "https://localhost:8080/"
        },
        "outputId": "707e0f2a-d44e-4f26-86f8-4e19a0e21710"
      },
      "outputs": [
        {
          "output_type": "stream",
          "name": "stdout",
          "text": [
            "root\n",
            " |-- tweet_id: long (nullable = true)\n",
            " |-- user_id: long (nullable = true)\n",
            " |-- tweet_timestamp: string (nullable = true)\n",
            " |-- keyword: string (nullable = true)\n",
            " |-- country/region: string (nullable = true)\n",
            " |-- valence_intensity: double (nullable = true)\n",
            " |-- fear_intensity: double (nullable = true)\n",
            " |-- anger_intensity: double (nullable = true)\n",
            " |-- happiness_intensity: double (nullable = true)\n",
            " |-- sadness_intensity: double (nullable = true)\n",
            " |-- sentiment: string (nullable = true)\n",
            " |-- emotion: string (nullable = true)\n",
            " |-- text: string (nullable = true)\n",
            "\n",
            "+-------------------+-------------------+-------------------+-------+--------------+------------------+--------------+---------------+-------------------+------------------+----------------+-------------------+--------------------+\n",
            "|           tweet_id|            user_id|    tweet_timestamp|keyword|country/region| valence_intensity|fear_intensity|anger_intensity|happiness_intensity| sadness_intensity|       sentiment|            emotion|                text|\n",
            "+-------------------+-------------------+-------------------+-------+--------------+------------------+--------------+---------------+-------------------+------------------+----------------+-------------------+--------------------+\n",
            "|1221966381261848576|         1875948768|2020-01-27 17-21-02|  wuhan|     Hong Kong|              0.41|         0.546|          0.403|              0.288|             0.481|        negative|               fear|It wouldn’t be su...|\n",
            "|1221967450901635072| 944047168188432386|2020-01-27 17-25-18|  wuhan|     Hong Kong|             0.453|         0.496|          0.411|              0.293|             0.414|        negative|               fear|Latest, another j...|\n",
            "|1221973917155217408| 860712123889885184|2020-01-27 17-50-59|  wuhan|     Hong Kong|             0.498|         0.411|          0.324|              0.308|             0.416|neutral or mixed|no specific emotion|@niubi Their pare...|\n",
            "|1221978691724427265|         2247640020|2020-01-27 18-09-58|  wuhan|     Hong Kong|             0.317|         0.629|          0.459|              0.092|             0.479|        negative|               fear|Confusion as #WHO...|\n",
            "|1221979371184906240| 944047168188432386|2020-01-27 18-12-40|  wuhan|     Hong Kong|             0.523|         0.438|          0.357|              0.342|             0.364|        positive|          happiness|6 provinces outsi...|\n",
            "|1221996040103981056|           22587869|2020-01-27 19-18-54|  wuhan|     Hong Kong|             0.379|         0.513|          0.511|              0.187|             0.429|        negative|               fear|😷?\n",
            "\n",
            "“Masks are u...|\n",
            "|1221999829263380481|           27284203|2020-01-27 19-33-57|  wuhan|     Hong Kong|             0.404|         0.447|          0.542|              0.185|             0.416|        negative|              anger|What China eats i...|\n",
            "|1222005200510042112|         1874792017|2020-01-27 19-55-18|  wuhan|     Hong Kong|             0.424|         0.513|          0.424|              0.276|0.3720000000000001|        negative|               fear|So the outbreak m...|\n",
            "|1222008201891041280|         2452096412|2020-01-27 20-07-13|  wuhan|     Hong Kong|             0.358|           0.6|          0.498|              0.194|              0.53|        negative|               fear|@jorge_guajardo @...|\n",
            "|1222018054105657344|           88128099|2020-01-27 20-46-22|  wuhan|     Hong Kong|0.5489999999999999|         0.371|          0.383|              0.411|             0.318|        positive|          happiness|@zlj517 Amazing ,...|\n",
            "|1222018262591889409|         1925374026|2020-01-27 20-47-12|  wuhan|     Hong Kong|               0.4|         0.617|          0.484|              0.214|             0.516|        negative|               fear|Prof @gmleunghku ...|\n",
            "|1222018560475594752|1059216565487337472|2020-01-27 20-48-23|  wuhan|     Hong Kong|             0.302|         0.531|           0.49|              0.218|0.5479999999999999|        negative|            sadness|@IncomeDisparity ...|\n",
            "|1222019367816306689|1170667863734046720|2020-01-27 20-51-35|  wuhan|     Hong Kong|              0.58|         0.447|          0.313|              0.381|             0.298|        positive|          happiness|Hong Kong actor L...|\n",
            "|1222019750265413633|          127791708|2020-01-27 20-53-07|  wuhan|     Hong Kong|             0.477|         0.542|           0.46|              0.273|             0.445|        negative|               fear|Despite the lack ...|\n",
            "|1222021131663622145| 917601294868549632|2020-01-27 20-58-36|  wuhan|     Hong Kong|0.5379999999999999|         0.441|          0.368|               0.42|             0.344|        positive|          happiness|Funny but so true...|\n",
            "|1222024252058038272|          394385808|2020-01-27 21-11-00|  wuhan|     Hong Kong|             0.475|         0.486|          0.449|              0.265|             0.403|        negative|               fear|#WHO encouraged t...|\n",
            "|1222025384415219713|          288091056|2020-01-27 21-15-30|  wuhan|     Hong Kong|             0.439|         0.624|          0.428|              0.309|             0.467|        negative|               fear|Foreigners prepar...|\n",
            "|1222030404762234881|1152029603109777408|2020-01-27 21-35-27|  wuhan|     Hong Kong|              0.52|         0.418|          0.356|              0.352|             0.377|neutral or mixed|no specific emotion|@SalonTrans @Solo...|\n",
            "|1222031825993748482|1194639205223170049|2020-01-27 21-41-06|  wuhan|     Hong Kong|             0.498|         0.385|          0.339|               0.35|             0.362|neutral or mixed|no specific emotion|Wuhan is just a m...|\n",
            "|1222034441452654592|1181220754928496640|2020-01-27 21-51-29|  wuhan|     Hong Kong|             0.266|         0.527|          0.607|              0.118|              0.59|   very negative|              anger|@GuoLibrary The r...|\n",
            "+-------------------+-------------------+-------------------+-------+--------------+------------------+--------------+---------------+-------------------+------------------+----------------+-------------------+--------------------+\n",
            "only showing top 20 rows\n",
            "\n"
          ]
        }
      ],
      "source": [
        "sparkDF=spark.createDataFrame(df_updated) \n",
        "sparkDF.printSchema()\n",
        "sparkDF.show()\n"
      ]
    },
    {
      "cell_type": "code",
      "execution_count": 14,
      "metadata": {
        "id": "KGUU3jzY1Afe",
        "colab": {
          "base_uri": "https://localhost:8080/"
        },
        "outputId": "f39f1ecd-00dc-4763-f421-d73c6e23ca57"
      },
      "outputs": [
        {
          "output_type": "stream",
          "name": "stdout",
          "text": [
            "+--------------------+----------------+\n",
            "|                text|       sentiment|\n",
            "+--------------------+----------------+\n",
            "|It wouldn’t be su...|        negative|\n",
            "|Latest, another j...|        negative|\n",
            "|@niubi Their pare...|neutral or mixed|\n",
            "|Confusion as #WHO...|        negative|\n",
            "|6 provinces outsi...|        positive|\n",
            "|😷?\n",
            "\n",
            "“Masks are u...|        negative|\n",
            "|What China eats i...|        negative|\n",
            "|So the outbreak m...|        negative|\n",
            "|@jorge_guajardo @...|        negative|\n",
            "|@zlj517 Amazing ,...|        positive|\n",
            "|Prof @gmleunghku ...|        negative|\n",
            "|@IncomeDisparity ...|        negative|\n",
            "|Hong Kong actor L...|        positive|\n",
            "|Despite the lack ...|        negative|\n",
            "|Funny but so true...|        positive|\n",
            "|#WHO encouraged t...|        negative|\n",
            "|Foreigners prepar...|        negative|\n",
            "|@SalonTrans @Solo...|neutral or mixed|\n",
            "|Wuhan is just a m...|neutral or mixed|\n",
            "|@GuoLibrary The r...|   very negative|\n",
            "+--------------------+----------------+\n",
            "only showing top 20 rows\n",
            "\n"
          ]
        }
      ],
      "source": [
        "spark_df = sparkDF.selectExpr(\"text\",\"sentiment\")\n",
        "spark_df.show()"
      ]
    },
    {
      "cell_type": "code",
      "execution_count": 15,
      "metadata": {
        "id": "SefaLx5fbxHc"
      },
      "outputs": [],
      "source": [
        "# Preprocessing\n",
        "spark_df = spark_df.withColumn('text',regexp_replace('text',r'http\\S+',''))\n",
        "spark_df = spark_df.withColumn('text',regexp_replace('text','@\\w+',''))\n",
        "spark_df = spark_df.withColumn('text',regexp_replace('text','#',''))\n",
        "spark_df = spark_df.withColumn('text',regexp_replace('text','RT',''))\n",
        "spark_df = spark_df.withColumn('text',regexp_replace('text','&amp;',''))\n",
        "spark_df = spark_df.withColumn('text',regexp_replace('text','&quot;',''))\n",
        "spark_df = spark_df.withColumn('text',regexp_replace('text','&gt',''))\n",
        "spark_df = spark_df.withColumn('text',regexp_replace('text','&lt',''))\n"
      ]
    },
    {
      "cell_type": "code",
      "execution_count": 16,
      "metadata": {
        "id": "JtFKIl842YtL"
      },
      "outputs": [],
      "source": [
        "spark_df_updated = spark_df.withColumn(\"sentiments\",\n",
        "       when((col(\"sentiment\") == \"very negative\"), 0)\n",
        "      .when((col(\"sentiment\") == \"very positive\"), 1)\n",
        "      .when((col(\"sentiment\") == \"negative\"), 0)\n",
        "      .when((col(\"sentiment\") == \"positive\"), 1)\n",
        "      .when((col(\"sentiment\") == \"neutral or mixed\"), 2)\n",
        "      .otherwise(col(\"sentiment\"))).selectExpr('text','sentiments')"
      ]
    },
    {
      "cell_type": "code",
      "source": [
        "spark_df_int = spark_df_updated.withColumn(\"sentiment_int\",col(\"sentiments\").cast(\"int\"))"
      ],
      "metadata": {
        "id": "2D3r_tySdHel"
      },
      "execution_count": 17,
      "outputs": []
    },
    {
      "cell_type": "code",
      "execution_count": 18,
      "metadata": {
        "id": "9-lEkcpedcIQ"
      },
      "outputs": [],
      "source": [
        "# Remove neutral\n",
        "spark_df_filtered=spark_df_int.filter(spark_df_int.sentiments != 2)"
      ]
    },
    {
      "cell_type": "code",
      "execution_count": 19,
      "metadata": {
        "id": "61bOeOjWjwKI",
        "colab": {
          "base_uri": "https://localhost:8080/"
        },
        "outputId": "e8778a12-b82d-4ea0-b192-2ec94304f484"
      },
      "outputs": [
        {
          "output_type": "stream",
          "name": "stdout",
          "text": [
            "+-------------+-----+\n",
            "|sentiment_int|count|\n",
            "+-------------+-----+\n",
            "|            0|70685|\n",
            "|            1|32474|\n",
            "+-------------+-----+\n",
            "\n"
          ]
        }
      ],
      "source": [
        "spark_df_filtered.groupBy(\"sentiment_int\") \\\n",
        "    .count() \\\n",
        "    .orderBy(col(\"count\").desc()) \\\n",
        "    .show()"
      ]
    },
    {
      "cell_type": "markdown",
      "metadata": {
        "id": "90NJJsPmepXR"
      },
      "source": [
        "# Undersampling"
      ]
    },
    {
      "cell_type": "code",
      "execution_count": 20,
      "metadata": {
        "id": "9eFF1736edyZ",
        "colab": {
          "base_uri": "https://localhost:8080/"
        },
        "outputId": "a8df22df-c5f9-4308-b670-5afab6ea8dfd"
      },
      "outputs": [
        {
          "output_type": "stream",
          "name": "stdout",
          "text": [
            "ratio: 2\n"
          ]
        }
      ],
      "source": [
        "# Undersampling\n",
        "major_df = spark_df_filtered.filter(col(\"sentiment_int\") == 0)\n",
        "minor_df = spark_df_filtered.filter(col(\"sentiment_int\") == 1)\n",
        "ratio = int(major_df.count()/minor_df.count())\n",
        "print(\"ratio: {}\".format(ratio))\n",
        "sampled_majority_df = major_df.sample(False,1/ratio)\n",
        "combined_df = sampled_majority_df.unionAll(minor_df)"
      ]
    },
    {
      "cell_type": "code",
      "execution_count": 21,
      "metadata": {
        "id": "Gz1Z030ZhUA5",
        "colab": {
          "base_uri": "https://localhost:8080/"
        },
        "outputId": "61238109-dd87-4ddd-ad8a-02390844a990"
      },
      "outputs": [
        {
          "output_type": "stream",
          "name": "stdout",
          "text": [
            "+-------------+-----+\n",
            "|sentiment_int|count|\n",
            "+-------------+-----+\n",
            "|            0|35477|\n",
            "|            1|32474|\n",
            "+-------------+-----+\n",
            "\n"
          ]
        }
      ],
      "source": [
        "combined_df.groupBy(\"sentiment_int\") \\\n",
        "    .count() \\\n",
        "    .orderBy(col(\"count\").desc()) \\\n",
        "    .show()"
      ]
    },
    {
      "cell_type": "markdown",
      "metadata": {
        "id": "nX_gNatQjzJW"
      },
      "source": [
        "# Training the model"
      ]
    },
    {
      "cell_type": "code",
      "execution_count": 22,
      "metadata": {
        "id": "Zm-T-GZXstHX"
      },
      "outputs": [],
      "source": [
        "documentAssembler = DocumentAssembler().setInputCol(\"text\").setOutputCol(\"document\").setCleanupMode(\"shrink\")\n",
        "sentence_detector = SentenceDetector().setInputCols([\"document\"]).setOutputCol(\"sentence\")\n",
        "tokenizer = Tokenizer().setInputCols([\"sentence\"]).setOutputCol(\"token\")\n",
        "stopwords_cleaner = StopWordsCleaner().setInputCols([\"token\"]).setOutputCol(\"cleanTokens\").setCaseSensitive(False)\n",
        "normalizer = Normalizer().setInputCols([\"cleanTokens\"]).setOutputCol(\"normalized\").setLowercase(True)\n",
        "finisher = Finisher().setInputCols([\"normalized\"]).setOutputCols([\"token_features\"]) # To generate Term Frequency\n",
        "hashingTF=HashingTF(inputCol=\"token_features\", outputCol=\"rawFeatures\")# To generate Inverse Document Frequency\n",
        "idf = IDF(inputCol=\"rawFeatures\",outputCol=\"features\",minDocFreq=5)"
      ]
    },
    {
      "cell_type": "code",
      "execution_count": 23,
      "metadata": {
        "id": "WbnDoEtvM7Hr"
      },
      "outputs": [],
      "source": [
        "SVC = LogisticRegression(labelCol = \"sentiment_int\", featuresCol=\"features\", maxIter=13, regParam=0.2)"
      ]
    },
    {
      "cell_type": "code",
      "execution_count": 24,
      "metadata": {
        "id": "XLVIGWyM0C2e"
      },
      "outputs": [],
      "source": [
        "clf_pipeline = Pipeline(stages=[documentAssembler,sentence_detector,tokenizer,stopwords_cleaner,normalizer,finisher,hashingTF,idf,SVC])"
      ]
    },
    {
      "cell_type": "code",
      "execution_count": 25,
      "metadata": {
        "id": "hlN1P3mB0yS-"
      },
      "outputs": [],
      "source": [
        "train, test = combined_df.randomSplit([0.7, 0.3], seed=42)"
      ]
    },
    {
      "cell_type": "code",
      "execution_count": 26,
      "metadata": {
        "id": "stIKtSzY03Um"
      },
      "outputs": [],
      "source": [
        "clf_pipelineModel = clf_pipeline.fit(train)"
      ]
    },
    {
      "cell_type": "code",
      "execution_count": 27,
      "metadata": {
        "id": "ZIR3-Mjh49bY"
      },
      "outputs": [],
      "source": [
        "preds = clf_pipelineModel.transform(test)"
      ]
    },
    {
      "cell_type": "code",
      "source": [
        "preds.select('text','sentiment_int','prediction').show(10,truncate=80)"
      ],
      "metadata": {
        "id": "ehAgYqcbel3B",
        "colab": {
          "base_uri": "https://localhost:8080/"
        },
        "outputId": "83f6cf28-7ac5-4432-e533-6bca07677ecb"
      },
      "execution_count": 28,
      "outputs": [
        {
          "output_type": "stream",
          "name": "stdout",
          "text": [
            "+--------------------------------------------------------------------------------+-------------+----------+\n",
            "|                                                                            text|sentiment_int|prediction|\n",
            "+--------------------------------------------------------------------------------+-------------+----------+\n",
            "|\n",
            "\n",
            "Of course CCP outlets would deliberately left out how this team from Hong K...|            0|       0.0|\n",
            "| \n",
            "\n",
            "We must not let the CCP rewrite the history of COVID-19, aka Wuhan pneumonia.|            0|       0.0|\n",
            "|\n",
            "\n",
            "WolfOnWallstreet SellThisPen \n",
            "\n",
            "\"SupplyAndDemand\" Corona FaceMask shortage i...|            0|       0.0|\n",
            "|\n",
            "\n",
            "as someone who lives in Hong Kong and knows a bit about both WuHan's situat...|            0|       0.0|\n",
            "|\n",
            "I  have been trapped in hubei for two months. you politicians can attack eac...|            0|       0.0|\n",
            "|\n",
            "healthcare 'Fearism 'Philosophy philosopher university universities vaccines...|            0|       0.0|\n",
            "| \n",
            "\n",
            " \n",
            "\n",
            "Why HK safe from covid19?\n",
            "Because the citizens in HK never trust CCP go...|            0|       0.0|\n",
            "|                               \n",
            "\n",
            "Go blame CCP for the coverup and this pandemic.|            0|       0.0|\n",
            "| \n",
            "\n",
            "It started in China in Dec and CCP spent a month covering up which by then...|            0|       0.0|\n",
            "|   \n",
            "CCP knew the ChinaVirus in Nov 19! ChinaLiedAndPeopleDied China_is_terrorist|            0|       0.0|\n",
            "+--------------------------------------------------------------------------------+-------------+----------+\n",
            "only showing top 10 rows\n",
            "\n"
          ]
        }
      ]
    },
    {
      "cell_type": "code",
      "execution_count": 29,
      "metadata": {
        "id": "vECPZ2RZ5Vse"
      },
      "outputs": [],
      "source": [
        "df = clf_pipelineModel.transform(test).select('text','sentiment_int','prediction').toPandas()"
      ]
    },
    {
      "cell_type": "code",
      "execution_count": 30,
      "metadata": {
        "id": "BIubmQ0B6t6t",
        "colab": {
          "base_uri": "https://localhost:8080/"
        },
        "outputId": "66c98ee7-9cc1-45bc-ef56-e0834a898984"
      },
      "outputs": [
        {
          "output_type": "stream",
          "name": "stdout",
          "text": [
            "Classification report\n",
            "              precision    recall  f1-score   support\n",
            "\n",
            "           0       0.82      0.86      0.84     10368\n",
            "           1       0.84      0.81      0.82      9686\n",
            "\n",
            "    accuracy                           0.83     20054\n",
            "   macro avg       0.83      0.83      0.83     20054\n",
            "weighted avg       0.83      0.83      0.83     20054\n",
            "\n",
            "\n",
            "\n",
            "Accuracy Metrics\n",
            "0.8321033210332104\n",
            "\n",
            "\n"
          ]
        }
      ],
      "source": [
        "print(\"Classification report\")\n",
        "print(classification_report(df.sentiment_int,df.prediction))\n",
        "print('\\n')\n",
        "print(\"Accuracy Metrics\")\n",
        "print(accuracy_score(df.sentiment_int,df.prediction))\n",
        "print('\\n')\n"
      ]
    },
    {
      "cell_type": "code",
      "source": [
        "clf_pipelineModel.save(\"/content/drive/MyDrive/BigData/Models/svm_sg\")"
      ],
      "metadata": {
        "id": "GtRd7LPF5LTD"
      },
      "execution_count": 31,
      "outputs": []
    }
  ],
  "metadata": {
    "accelerator": "GPU",
    "colab": {
      "collapsed_sections": [],
      "machine_shape": "hm",
      "name": "SVM.ipynb",
      "provenance": []
    },
    "kernelspec": {
      "display_name": "Python 3",
      "name": "python3"
    },
    "language_info": {
      "name": "python"
    }
  },
  "nbformat": 4,
  "nbformat_minor": 0
}