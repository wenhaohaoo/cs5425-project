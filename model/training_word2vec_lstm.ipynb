{
 "cells": [
  {
   "cell_type": "code",
   "execution_count": 1,
   "id": "e8f96f7f",
   "metadata": {},
   "outputs": [],
   "source": [
    "import pandas as pd\n",
    "from gensim.models import Word2Vec\n",
    "import gensim\n",
    "from nltk.corpus import stopwords\n",
    "import re\n",
    "import nltk\n",
    "from gensim.parsing.preprocessing import remove_stopwords\n",
    "import numpy as np\n",
    "from nltk.stem import WordNetLemmatizer\n",
    "import numpy as np\n",
    "import pickle as pkl\n",
    "import torch\n",
    "from sklearn.model_selection import train_test_split\n",
    "import torch\n",
    "import torch.nn.functional as F\n",
    "import torch.nn as nn\n",
    "import math\n",
    "from torch.utils.data import DataLoader, TensorDataset"
   ]
  },
  {
   "cell_type": "code",
   "execution_count": 2,
   "id": "ec2ef5fa",
   "metadata": {},
   "outputs": [],
   "source": [
    "model = Word2Vec.load(\"./word2vec.model\")"
   ]
  },
  {
   "cell_type": "code",
   "execution_count": 3,
   "id": "e983f22e",
   "metadata": {},
   "outputs": [],
   "source": [
    "df = pd.read_csv(\"./Tweets_SG_HK_Aus/HKTweetsHydrated.csv\",  engine='python')"
   ]
  },
  {
   "cell_type": "code",
   "execution_count": 4,
   "id": "4ba7642b",
   "metadata": {
    "scrolled": true
   },
   "outputs": [
    {
     "name": "stdout",
     "output_type": "stream",
     "text": [
      "Index(['tweet_id', 'user_id', 'tweet_timestamp', 'keyword', 'country/region',\n",
      "       'valence_intensity', 'fear_intensity', 'anger_intensity',\n",
      "       'happiness_intensity', 'sadness_intensity', 'sentiment', 'emotion',\n",
      "       'text'],\n",
      "      dtype='object')\n"
     ]
    }
   ],
   "source": [
    "print(df.columns)"
   ]
  },
  {
   "cell_type": "code",
   "execution_count": 5,
   "id": "7f9aca3b",
   "metadata": {},
   "outputs": [],
   "source": [
    "df = df.dropna()"
   ]
  },
  {
   "cell_type": "code",
   "execution_count": 6,
   "id": "da265b78",
   "metadata": {},
   "outputs": [],
   "source": [
    "df.drop(df.loc[df['sentiment']=='neutral or mixed'].index, inplace=True)"
   ]
  },
  {
   "cell_type": "code",
   "execution_count": 7,
   "id": "e30ca169",
   "metadata": {},
   "outputs": [],
   "source": [
    "df[\"sentiment\"] = df['sentiment'].replace(['very positive'], 'positive')"
   ]
  },
  {
   "cell_type": "code",
   "execution_count": 8,
   "id": "719fe1ff",
   "metadata": {},
   "outputs": [],
   "source": [
    "df[\"sentiment\"] = df['sentiment'].replace(['very negative'], 'negative')"
   ]
  },
  {
   "cell_type": "code",
   "execution_count": 9,
   "id": "fafb4c81",
   "metadata": {},
   "outputs": [
    {
     "data": {
      "text/plain": [
       "negative    70685\n",
       "positive    32474\n",
       "Name: sentiment, dtype: int64"
      ]
     },
     "execution_count": 9,
     "metadata": {},
     "output_type": "execute_result"
    }
   ],
   "source": [
    "df['sentiment'].value_counts()"
   ]
  },
  {
   "cell_type": "code",
   "execution_count": 10,
   "id": "f29ec4de",
   "metadata": {},
   "outputs": [],
   "source": [
    "df_new = df[df['sentiment'] == 'negative'].sample(32474)\n",
    "df_new = df_new.append(df[df['sentiment'] == 'positive'].sample(32474))\n",
    "#df_new = df_new.append(df[df['sentiment']=='neutral or mixed'])\n",
    "df = df_new"
   ]
  },
  {
   "cell_type": "code",
   "execution_count": 11,
   "id": "c5eb8861",
   "metadata": {},
   "outputs": [],
   "source": [
    "text_corpus = df['text'].apply(str)"
   ]
  },
  {
   "cell_type": "code",
   "execution_count": null,
   "id": "8b964885",
   "metadata": {},
   "outputs": [],
   "source": [
    "val = []\n",
    "for i in text_corpus:\n",
    "    text = i\n",
    "    text = re.sub(r'http\\S+' , ' ' , text)\n",
    "    text = re.sub('@\\w+' , ' ' , text)\n",
    "    text = re.sub('#' , ' ' , text)\n",
    "    text = re.sub('RT' , ' ' , text)\n",
    "    text = re.sub('&amp;' , ' ' , text)\n",
    "    text = re.sub('&quot;' , ' ' , text)\n",
    "    text = re.sub('&gt' , ' ' , text)\n",
    "    text = re.sub('&lt' , ' ' , text)\n",
    "    val.append(text)"
   ]
  },
  {
   "cell_type": "code",
   "execution_count": 12,
   "id": "91abf61f",
   "metadata": {},
   "outputs": [],
   "source": [
    "val = []\n",
    "for i in text_corpus:\n",
    "    text = i\n",
    "    text = re.sub(r'\\[[0-9]*\\]' , ' ' , text)\n",
    "    text = re.sub(r'\\s+' , ' ' , text)\n",
    "    text = text.lower()\n",
    "    text = re.sub(r'\\d' , ' ' , text)\n",
    "    text = re.sub(r'\\s+' , ' ' , text)\n",
    "    val.append(text)"
   ]
  },
  {
   "cell_type": "code",
   "execution_count": 13,
   "id": "3c88b104",
   "metadata": {},
   "outputs": [],
   "source": [
    "sentences = [nltk.word_tokenize(st) for st in val]"
   ]
  },
  {
   "cell_type": "code",
   "execution_count": 14,
   "id": "65656503",
   "metadata": {},
   "outputs": [],
   "source": [
    "count  = len(sentences)\n",
    "stop_words = set(stopwords.words(\"english\"))\n",
    "for i in range(0 , count):\n",
    "    sentences[i] = [word for word in sentences[i] if word not in stop_words]"
   ]
  },
  {
   "cell_type": "code",
   "execution_count": 15,
   "id": "ca7b4fbe",
   "metadata": {},
   "outputs": [],
   "source": [
    "lemmatizer = WordNetLemmatizer()\n",
    "maxLen = 0\n",
    "for i in range(count):\n",
    "    if len(sentences[i])>maxLen:\n",
    "        maxLen = len(sentences[i])\n",
    "    for j in range(len(sentences[i])):\n",
    "        sentences[i][j] = lemmatizer.lemmatize(sentences[i][j])"
   ]
  },
  {
   "cell_type": "code",
   "execution_count": 16,
   "id": "bf5fa817",
   "metadata": {},
   "outputs": [
    {
     "data": {
      "text/plain": [
       "86"
      ]
     },
     "execution_count": 16,
     "metadata": {},
     "output_type": "execute_result"
    }
   ],
   "source": [
    "maxLen"
   ]
  },
  {
   "cell_type": "code",
   "execution_count": 17,
   "id": "bbbff090",
   "metadata": {},
   "outputs": [
    {
     "name": "stdout",
     "output_type": "stream",
     "text": [
      "Preprocessed 10000\n",
      "Preprocessed 20000\n",
      "Preprocessed 30000\n",
      "Preprocessed 40000\n",
      "Preprocessed 50000\n",
      "Preprocessed 60000\n"
     ]
    }
   ],
   "source": [
    "import numpy as np\n",
    "val = np.zeros((count , maxLen, 100))\n",
    "\n",
    "for sentence , j in zip(sentences , range(0 , count)):\n",
    "    arr = np.zeros((maxLen,100))\n",
    "    i = 0\n",
    "    for word in sentence:\n",
    "            if word in model.wv:\n",
    "                arr[i] = model.wv[word]\n",
    "            else:\n",
    "                arr[i] = model.wv['unknown']\n",
    "            i+=1\n",
    "    val[j] = arr \n",
    "    if j%10000 == 0 and j!=0:\n",
    "        print(f\"Preprocessed {j}\")"
   ]
  },
  {
   "cell_type": "code",
   "execution_count": 18,
   "id": "5bf849bf",
   "metadata": {},
   "outputs": [],
   "source": [
    "X = val\n",
    "y = df[\"sentiment\"]"
   ]
  },
  {
   "cell_type": "code",
   "execution_count": 19,
   "id": "e5690173",
   "metadata": {},
   "outputs": [],
   "source": [
    "def label_map(label):\n",
    "    if label == \"negative\":\n",
    "        return 0\n",
    "    elif label == \"positive\":\n",
    "        return 1"
   ]
  },
  {
   "cell_type": "code",
   "execution_count": 20,
   "id": "99ab111e",
   "metadata": {},
   "outputs": [],
   "source": [
    "y = y.apply(label_map)"
   ]
  },
  {
   "cell_type": "code",
   "execution_count": 21,
   "id": "a56f7de0",
   "metadata": {},
   "outputs": [
    {
     "name": "stdout",
     "output_type": "stream",
     "text": [
      "cuda\n"
     ]
    }
   ],
   "source": [
    "device= torch.device(\"cuda\")\n",
    "#device= torch.device(\"cpu\")\n",
    "print(device)"
   ]
  },
  {
   "cell_type": "code",
   "execution_count": 22,
   "id": "7ec6b6bf",
   "metadata": {},
   "outputs": [],
   "source": [
    "\n",
    "\n",
    "embedding_dim = 100\n",
    "hidden_dim = 300\n",
    "output_dim = 3\n",
    "dropout_rate = 0.5\n",
    "bidirectional = True\n"
   ]
  },
  {
   "cell_type": "code",
   "execution_count": 23,
   "id": "8d934ca9",
   "metadata": {},
   "outputs": [],
   "source": [
    "class BiLSTM_SentimentAnalysis(torch.nn.Module) :\n",
    "    def __init__(self, embedding_dim, hidden_dim, dropout) :\n",
    "        super().__init__()\n",
    "\n",
    "\n",
    "        # The LSTM layer takes in the the embedding size and the hidden vector size.\n",
    "        # The hidden dimension is up to you to decide, but common values are 32, 64, 128\n",
    "        self.lstm = nn.LSTM(embedding_dim, hidden_dim, batch_first=True)\n",
    "\n",
    "        # We use dropout before the final layer to improve with regularization\n",
    "        self.dropout = nn.Dropout(dropout)\n",
    "\n",
    "        # The fully-connected layer takes in the hidden dim of the LSTM and\n",
    "        #  outputs a a 3x1 vector of the class scores.\n",
    "        self.fc = nn.Linear(hidden_dim, 3)\n",
    "\n",
    "    def forward(self, x, h_init, c_init):\n",
    "        \"\"\"\n",
    "        The forward method takes in the input and the previous hidden state \n",
    "        \"\"\"\n",
    "\n",
    "        # The input is transformed to embeddings by passing it to the embedding layer\n",
    "        # embs = self.embedding(x)\n",
    "\n",
    "        # The embedded inputs are fed to the LSTM alongside the previous hidden state\n",
    "        out, (h_final, c_final) = self.lstm(x.float(), (h_init, c_init))\n",
    "\n",
    "        # Dropout is applied to the output and fed to the FC layer\n",
    "        out = self.dropout(out)\n",
    "        out = self.fc(out)\n",
    "\n",
    "        # We extract the scores for the final hidden state since it is the one that matters.\n",
    "        out = out[:, -1]\n",
    "        return out, h_final, c_final\n",
    "    \n",
    "    def init_hidden(self):\n",
    "        return (torch.zeros(1, batch_size, 32), torch.zeros(1, batch_size, 32))"
   ]
  },
  {
   "cell_type": "code",
   "execution_count": 24,
   "id": "571bd528",
   "metadata": {},
   "outputs": [],
   "source": [
    "model = BiLSTM_SentimentAnalysis( embedding_dim, 300, 0.3)\n",
    "model = model.to(device)"
   ]
  },
  {
   "cell_type": "code",
   "execution_count": 25,
   "id": "f334278c",
   "metadata": {},
   "outputs": [],
   "source": [
    "criterion = nn.CrossEntropyLoss()\n",
    "optimizer = torch.optim.Adam(model.parameters(), lr = 3e-4)"
   ]
  },
  {
   "cell_type": "code",
   "execution_count": 26,
   "id": "4bd23222",
   "metadata": {},
   "outputs": [],
   "source": [
    "X_train, X_test, y_train, y_test = train_test_split(X,y,test_size=0.20, random_state=10)\n",
    "\n",
    "\n",
    "batch_size = 64\n",
    "\n",
    "train_ds = TensorDataset(torch.from_numpy(X_train), torch.from_numpy(y_train.to_numpy()))\n",
    "test_ds = TensorDataset(torch.from_numpy(X_test), torch.from_numpy(y_test.to_numpy()))\n",
    "\n",
    "\n",
    "train_dl = DataLoader(train_ds, shuffle=True, batch_size=batch_size, drop_last=True)\n",
    "test_dl = DataLoader(test_ds, shuffle=True, batch_size=batch_size, drop_last=True)"
   ]
  },
  {
   "cell_type": "code",
   "execution_count": 27,
   "id": "08550651",
   "metadata": {},
   "outputs": [],
   "source": [
    "epochs = 10\n",
    "losses = []\n",
    "for e in range(epochs):\n",
    "\n",
    "    h0 = torch.zeros(1, batch_size, hidden_dim)\n",
    "    c0 = torch.zeros(1, batch_size, hidden_dim)\n",
    "   \n",
    "    h0=h0.to(device)\n",
    "    c0=c0.to(device)\n",
    "\n",
    "    for batch_idx, batch in enumerate(train_dl):\n",
    "\n",
    "        input = batch[0].to(device)\n",
    "        target = batch[1].to(device)\n",
    "\n",
    "        optimizer.zero_grad()\n",
    "        with torch.set_grad_enabled(True):\n",
    "            out, h, c = model(input, h0, c0)\n",
    "            loss = criterion(out, target)\n",
    "            loss.backward()\n",
    "            optimizer.step()\n",
    "    losses.append(loss.item())"
   ]
  },
  {
   "cell_type": "code",
   "execution_count": 28,
   "id": "354ed653",
   "metadata": {},
   "outputs": [
    {
     "data": {
      "text/plain": [
       "[<matplotlib.lines.Line2D at 0x1f5cfad2b48>]"
      ]
     },
     "execution_count": 28,
     "metadata": {},
     "output_type": "execute_result"
    },
    {
     "data": {
      "image/png": "[encoded data removed]",
      "text/plain": [
       "<Figure size 432x288 with 1 Axes>"
      ]
     },
     "metadata": {
      "needs_background": "light"
     },
     "output_type": "display_data"
    }
   ],
   "source": [
    "import matplotlib.pyplot as plt\n",
    "plt.plot(losses)"
   ]
  },
  {
   "cell_type": "code",
   "execution_count": 29,
   "id": "00015642",
   "metadata": {},
   "outputs": [
    {
     "name": "stdout",
     "output_type": "stream",
     "text": [
      "f1 score : [0.48587326 0.50622231]\n",
      "accuracy score : 0.5\n",
      "precison score : [0.48428935 0.51682116]\n",
      "recall score : [0.49662004 0.50415213]\n",
      "classification report :               precision    recall  f1-score   support\n",
      "\n",
      "           0       0.48      0.50      0.49      6247\n",
      "           1       0.52      0.50      0.51      6681\n",
      "\n",
      "    accuracy                           0.50     12928\n",
      "   macro avg       0.50      0.50      0.50     12928\n",
      "weighted avg       0.50      0.50      0.50     12928\n",
      "\n"
     ]
    }
   ],
   "source": [
    "from sklearn.metrics import accuracy_score\n",
    "from sklearn.metrics import precision_score\n",
    "from sklearn.metrics import f1_score\n",
    "from sklearn.metrics import recall_score\n",
    "from sklearn.metrics import classification_report\n",
    "\n",
    "batch_acc = []\n",
    "batch_prec = []\n",
    "batch_f1 = []\n",
    "batch_rec = []\n",
    "pred = []\n",
    "targets = []\n",
    "for batch_idx, batch in enumerate(test_dl):\n",
    "\n",
    "    input = batch[0].to(device)\n",
    "    target = batch[1].to(device)\n",
    "\n",
    "    optimizer.zero_grad()\n",
    "    with torch.set_grad_enabled(False):\n",
    "        out, h, c = model(input, h0, c0)\n",
    "        _, preds = torch.max(out, 1)\n",
    "        preds = preds.to(\"cpu\").tolist()\n",
    "        pred.extend(preds)\n",
    "        targets.extend(target.tolist())\n",
    "        batch_f1.append(f1_score(preds, target.tolist() , average=None))\n",
    "        batch_acc.append(accuracy_score(preds, target.tolist()))\n",
    "        batch_prec.append(precision_score(preds, target.tolist(), average=None))\n",
    "        batch_rec.append(recall_score(preds, target.tolist(), average=None))\n",
    "print(f\"f1 score : {sum(batch_f1)/len(batch_f1)}\")\n",
    "print(f\"accuracy score : {sum(batch_acc)/len(batch_acc)}\")\n",
    "print(f\"precison score : {sum(batch_prec)/len(batch_prec)}\")\n",
    "print(f\"recall score : {sum(batch_rec)/len(batch_rec)}\")\n",
    "print(f\"classification report : {classification_report(pred,targets)}\")"
   ]
  },
  {
   "cell_type": "code",
   "execution_count": null,
   "id": "b97d940d",
   "metadata": {},
   "outputs": [],
   "source": []
  }
 ],
 "metadata": {
  "kernelspec": {
   "display_name": "Python 3 (ipykernel)",
   "language": "python",
   "name": "python3"
  },
  "language_info": {
   "codemirror_mode": {
    "name": "ipython",
    "version": 3
   },
   "file_extension": ".py",
   "mimetype": "text/x-python",
   "name": "python",
   "nbconvert_exporter": "python",
   "pygments_lexer": "ipython3",
   "version": "3.7.10"
  }
 },
 "nbformat": 4,
 "nbformat_minor": 5
}
