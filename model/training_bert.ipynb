{
  "nbformat": 4,
  "nbformat_minor": 0,
  "metadata": {
    "colab": {
      "name": "BERT.ipynb",
      "provenance": [],
      "collapsed_sections": [],
      "machine_shape": "hm"
    },
    "kernelspec": {
      "name": "python3",
      "display_name": "Python 3"
    },
    "language_info": {
      "name": "python"
    },
    "accelerator": "GPU"
  },
  "cells": [
    {
      "cell_type": "code",
      "source": [
        "from google.colab import drive \n",
        "drive.mount('/content/drive')"
      ],
      "metadata": {
        "colab": {
          "base_uri": "https://localhost:8080/"
        },
        "id": "-Yd2KizFrgH6",
        "outputId": "5e4967a5-e198-4c6b-e577-f77c0615a771"
      },
      "execution_count": null,
      "outputs": [
        {
          "output_type": "stream",
          "name": "stdout",
          "text": [
            "Drive already mounted at /content/drive; to attempt to forcibly remount, call drive.mount(\"/content/drive\", force_remount=True).\n"
          ]
        }
      ]
    },
    {
      "cell_type": "code",
      "execution_count": null,
      "metadata": {
        "colab": {
          "base_uri": "https://localhost:8080/"
        },
        "id": "MXUsVe_IqZQi",
        "outputId": "c56b8581-5055-4926-bde1-a694fb8ac6ba"
      },
      "outputs": [
        {
          "output_type": "stream",
          "name": "stdout",
          "text": [
            "--2022-04-17 08:11:32--  http://setup.johnsnowlabs.com/colab.sh\n",
            "Resolving setup.johnsnowlabs.com (setup.johnsnowlabs.com)... 51.158.130.125\n",
            "Connecting to setup.johnsnowlabs.com (setup.johnsnowlabs.com)|51.158.130.125|:80... connected.\n",
            "HTTP request sent, awaiting response... 302 Found\n",
            "Location: https://setup.johnsnowlabs.com/colab.sh [following]\n",
            "--2022-04-17 08:11:32--  https://setup.johnsnowlabs.com/colab.sh\n",
            "Connecting to setup.johnsnowlabs.com (setup.johnsnowlabs.com)|51.158.130.125|:443... connected.\n",
            "HTTP request sent, awaiting response... 302 Moved Temporarily\n",
            "Location: https://raw.githubusercontent.com/JohnSnowLabs/spark-nlp/master/scripts/colab_setup.sh [following]\n",
            "--2022-04-17 08:11:32--  https://raw.githubusercontent.com/JohnSnowLabs/spark-nlp/master/scripts/colab_setup.sh\n",
            "Resolving raw.githubusercontent.com (raw.githubusercontent.com)... 185.199.108.133, 185.199.109.133, 185.199.110.133, ...\n",
            "Connecting to raw.githubusercontent.com (raw.githubusercontent.com)|185.199.108.133|:443... connected.\n",
            "HTTP request sent, awaiting response... 200 OK\n",
            "Length: 1453 (1.4K) [text/plain]\n",
            "Saving to: ‘STDOUT’\n",
            "\n",
            "-                   100%[===================>]   1.42K  --.-KB/s    in 0s      \n",
            "\n",
            "2022-04-17 08:11:32 (39.0 MB/s) - written to stdout [1453/1453]\n",
            "\n",
            "setup Colab for PySpark 3.0.3 and Spark NLP 3.4.3\n",
            "Installing PySpark 3.0.3 and Spark NLP 3.4.3\n"
          ]
        }
      ],
      "source": [
        "!wget http://setup.johnsnowlabs.com/colab.sh -O - | bash"
      ]
    },
    {
      "cell_type": "code",
      "source": [
        "import pandas as pd\n",
        "from sparknlp.base import *\n",
        "from sparknlp.annotator import *\n",
        "from pyspark.sql.functions import *"
      ],
      "metadata": {
        "id": "swOTzBy4r2mf"
      },
      "execution_count": null,
      "outputs": []
    },
    {
      "cell_type": "code",
      "source": [
        "gpu_info = !nvidia-smi\n",
        "gpu_info = '\\n'.join(gpu_info)\n",
        "if gpu_info.find('failed') >= 0:\n",
        "  print('Not connected to a GPU')\n",
        "else:\n",
        "  print(gpu_info)"
      ],
      "metadata": {
        "colab": {
          "base_uri": "https://localhost:8080/"
        },
        "id": "166R6t84X0Ib",
        "outputId": "b2f9fb4d-67d2-4502-921e-9055638de63b"
      },
      "execution_count": null,
      "outputs": [
        {
          "output_type": "stream",
          "name": "stdout",
          "text": [
            "Sun Apr 17 08:11:35 2022       \n",
            "+-----------------------------------------------------------------------------+\n",
            "| NVIDIA-SMI 460.32.03    Driver Version: 460.32.03    CUDA Version: 11.2     |\n",
            "|-------------------------------+----------------------+----------------------+\n",
            "| GPU  Name        Persistence-M| Bus-Id        Disp.A | Volatile Uncorr. ECC |\n",
            "| Fan  Temp  Perf  Pwr:Usage/Cap|         Memory-Usage | GPU-Util  Compute M. |\n",
            "|                               |                      |               MIG M. |\n",
            "|===============================+======================+======================|\n",
            "|   0  Tesla T4            Off  | 00000000:00:04.0 Off |                    0 |\n",
            "| N/A   39C    P8     9W /  70W |      0MiB / 15109MiB |      0%      Default |\n",
            "|                               |                      |                  N/A |\n",
            "+-------------------------------+----------------------+----------------------+\n",
            "                                                                               \n",
            "+-----------------------------------------------------------------------------+\n",
            "| Processes:                                                                  |\n",
            "|  GPU   GI   CI        PID   Type   Process name                  GPU Memory |\n",
            "|        ID   ID                                                   Usage      |\n",
            "|=============================================================================|\n",
            "|  No running processes found                                                 |\n",
            "+-----------------------------------------------------------------------------+\n"
          ]
        }
      ]
    },
    {
      "cell_type": "code",
      "source": [
        "import sparknlp\n",
        "spark = sparknlp.start(gpu=True)\n",
        "spark\n",
        "\n",
        "print(\"Spark NLP version: {}\".format(sparknlp.version()))\n",
        "print(\"Apache Spark version: {}\".format(spark.version))"
      ],
      "metadata": {
        "colab": {
          "base_uri": "https://localhost:8080/"
        },
        "id": "Ovdaca2_ql8v",
        "outputId": "6c1f9332-4cb6-41be-c94b-0f6e51ad7c6a"
      },
      "execution_count": null,
      "outputs": [
        {
          "output_type": "stream",
          "name": "stdout",
          "text": [
            "Spark NLP version: 3.4.3\n",
            "Apache Spark version: 3.0.3\n"
          ]
        }
      ]
    },
    {
      "cell_type": "code",
      "source": [
        "input_path_hk = \"/content/drive/MyDrive/Tweets/Tweets_SG_HK_AUS/HKTweetsHydrated.csv\"\n",
        "df = pd.read_csv(input_path_hk)"
      ],
      "metadata": {
        "id": "btVXxt7urPFa"
      },
      "execution_count": null,
      "outputs": []
    },
    {
      "cell_type": "code",
      "source": [
        "df.isnull().sum()"
      ],
      "metadata": {
        "colab": {
          "base_uri": "https://localhost:8080/"
        },
        "id": "sLnNlWmgr6Lt",
        "outputId": "b1524493-aced-45dd-850a-f106707b1ff4"
      },
      "execution_count": null,
      "outputs": [
        {
          "output_type": "execute_result",
          "data": {
            "text/plain": [
              "tweet_id                   0\n",
              "user_id                    0\n",
              "tweet_timestamp            0\n",
              "keyword                    0\n",
              "country/region             0\n",
              "valence_intensity          0\n",
              "fear_intensity             0\n",
              "anger_intensity            0\n",
              "happiness_intensity        0\n",
              "sadness_intensity          0\n",
              "sentiment                  0\n",
              "emotion                    0\n",
              "text                   22761\n",
              "dtype: int64"
            ]
          },
          "metadata": {},
          "execution_count": 55
        }
      ]
    },
    {
      "cell_type": "code",
      "source": [
        "df_updated = df.dropna()"
      ],
      "metadata": {
        "id": "-A_5F_1PsIjP"
      },
      "execution_count": null,
      "outputs": []
    },
    {
      "cell_type": "code",
      "source": [
        "df_updated.isnull().sum()"
      ],
      "metadata": {
        "colab": {
          "base_uri": "https://localhost:8080/"
        },
        "id": "xWuD95KhsNxy",
        "outputId": "af40ce86-94df-4d5e-dd04-15c7d77115a7"
      },
      "execution_count": null,
      "outputs": [
        {
          "output_type": "execute_result",
          "data": {
            "text/plain": [
              "tweet_id               0\n",
              "user_id                0\n",
              "tweet_timestamp        0\n",
              "keyword                0\n",
              "country/region         0\n",
              "valence_intensity      0\n",
              "fear_intensity         0\n",
              "anger_intensity        0\n",
              "happiness_intensity    0\n",
              "sadness_intensity      0\n",
              "sentiment              0\n",
              "emotion                0\n",
              "text                   0\n",
              "dtype: int64"
            ]
          },
          "metadata": {},
          "execution_count": 57
        }
      ]
    },
    {
      "cell_type": "code",
      "source": [
        "sparkDF=spark.createDataFrame(df_updated) \n",
        "sparkDF.printSchema()\n",
        "sparkDF.show()\n"
      ],
      "metadata": {
        "colab": {
          "base_uri": "https://localhost:8080/"
        },
        "id": "xSzdtgUOsgI1",
        "outputId": "f4f68bc0-feb5-4755-9de6-3a55e3245c63"
      },
      "execution_count": null,
      "outputs": [
        {
          "output_type": "stream",
          "name": "stdout",
          "text": [
            "root\n",
            " |-- tweet_id: long (nullable = true)\n",
            " |-- user_id: long (nullable = true)\n",
            " |-- tweet_timestamp: string (nullable = true)\n",
            " |-- keyword: string (nullable = true)\n",
            " |-- country/region: string (nullable = true)\n",
            " |-- valence_intensity: double (nullable = true)\n",
            " |-- fear_intensity: double (nullable = true)\n",
            " |-- anger_intensity: double (nullable = true)\n",
            " |-- happiness_intensity: double (nullable = true)\n",
            " |-- sadness_intensity: double (nullable = true)\n",
            " |-- sentiment: string (nullable = true)\n",
            " |-- emotion: string (nullable = true)\n",
            " |-- text: string (nullable = true)\n",
            "\n",
            "+-------------------+-------------------+-------------------+-------+--------------+------------------+--------------+---------------+-------------------+------------------+----------------+-------------------+--------------------+\n",
            "|           tweet_id|            user_id|    tweet_timestamp|keyword|country/region| valence_intensity|fear_intensity|anger_intensity|happiness_intensity| sadness_intensity|       sentiment|            emotion|                text|\n",
            "+-------------------+-------------------+-------------------+-------+--------------+------------------+--------------+---------------+-------------------+------------------+----------------+-------------------+--------------------+\n",
            "|1221966381261848576|         1875948768|2020-01-27 17-21-02|  wuhan|     Hong Kong|              0.41|         0.546|          0.403|              0.288|             0.481|        negative|               fear|It wouldn’t be su...|\n",
            "|1221967450901635072| 944047168188432386|2020-01-27 17-25-18|  wuhan|     Hong Kong|             0.453|         0.496|          0.411|              0.293|             0.414|        negative|               fear|Latest, another j...|\n",
            "|1221973917155217408| 860712123889885184|2020-01-27 17-50-59|  wuhan|     Hong Kong|             0.498|         0.411|          0.324|              0.308|             0.416|neutral or mixed|no specific emotion|@niubi Their pare...|\n",
            "|1221978691724427265|         2247640020|2020-01-27 18-09-58|  wuhan|     Hong Kong|             0.317|         0.629|          0.459|              0.092|             0.479|        negative|               fear|Confusion as #WHO...|\n",
            "|1221979371184906240| 944047168188432386|2020-01-27 18-12-40|  wuhan|     Hong Kong|             0.523|         0.438|          0.357|              0.342|             0.364|        positive|          happiness|6 provinces outsi...|\n",
            "|1221996040103981056|           22587869|2020-01-27 19-18-54|  wuhan|     Hong Kong|             0.379|         0.513|          0.511|              0.187|             0.429|        negative|               fear|😷?\n",
            "\n",
            "“Masks are u...|\n",
            "|1221999829263380481|           27284203|2020-01-27 19-33-57|  wuhan|     Hong Kong|             0.404|         0.447|          0.542|              0.185|             0.416|        negative|              anger|What China eats i...|\n",
            "|1222005200510042112|         1874792017|2020-01-27 19-55-18|  wuhan|     Hong Kong|             0.424|         0.513|          0.424|              0.276|0.3720000000000001|        negative|               fear|So the outbreak m...|\n",
            "|1222008201891041280|         2452096412|2020-01-27 20-07-13|  wuhan|     Hong Kong|             0.358|           0.6|          0.498|              0.194|              0.53|        negative|               fear|@jorge_guajardo @...|\n",
            "|1222018054105657344|           88128099|2020-01-27 20-46-22|  wuhan|     Hong Kong|0.5489999999999999|         0.371|          0.383|              0.411|             0.318|        positive|          happiness|@zlj517 Amazing ,...|\n",
            "|1222018262591889409|         1925374026|2020-01-27 20-47-12|  wuhan|     Hong Kong|               0.4|         0.617|          0.484|              0.214|             0.516|        negative|               fear|Prof @gmleunghku ...|\n",
            "|1222018560475594752|1059216565487337472|2020-01-27 20-48-23|  wuhan|     Hong Kong|             0.302|         0.531|           0.49|              0.218|0.5479999999999999|        negative|            sadness|@IncomeDisparity ...|\n",
            "|1222019367816306689|1170667863734046720|2020-01-27 20-51-35|  wuhan|     Hong Kong|              0.58|         0.447|          0.313|              0.381|             0.298|        positive|          happiness|Hong Kong actor L...|\n",
            "|1222019750265413633|          127791708|2020-01-27 20-53-07|  wuhan|     Hong Kong|             0.477|         0.542|           0.46|              0.273|             0.445|        negative|               fear|Despite the lack ...|\n",
            "|1222021131663622145| 917601294868549632|2020-01-27 20-58-36|  wuhan|     Hong Kong|0.5379999999999999|         0.441|          0.368|               0.42|             0.344|        positive|          happiness|Funny but so true...|\n",
            "|1222024252058038272|          394385808|2020-01-27 21-11-00|  wuhan|     Hong Kong|             0.475|         0.486|          0.449|              0.265|             0.403|        negative|               fear|#WHO encouraged t...|\n",
            "|1222025384415219713|          288091056|2020-01-27 21-15-30|  wuhan|     Hong Kong|             0.439|         0.624|          0.428|              0.309|             0.467|        negative|               fear|Foreigners prepar...|\n",
            "|1222030404762234881|1152029603109777408|2020-01-27 21-35-27|  wuhan|     Hong Kong|              0.52|         0.418|          0.356|              0.352|             0.377|neutral or mixed|no specific emotion|@SalonTrans @Solo...|\n",
            "|1222031825993748482|1194639205223170049|2020-01-27 21-41-06|  wuhan|     Hong Kong|             0.498|         0.385|          0.339|               0.35|             0.362|neutral or mixed|no specific emotion|Wuhan is just a m...|\n",
            "|1222034441452654592|1181220754928496640|2020-01-27 21-51-29|  wuhan|     Hong Kong|             0.266|         0.527|          0.607|              0.118|              0.59|   very negative|              anger|@GuoLibrary The r...|\n",
            "+-------------------+-------------------+-------------------+-------+--------------+------------------+--------------+---------------+-------------------+------------------+----------------+-------------------+--------------------+\n",
            "only showing top 20 rows\n",
            "\n"
          ]
        }
      ]
    },
    {
      "cell_type": "code",
      "source": [
        "spark_df = sparkDF.selectExpr(\"text\",\"sentiment\")\n",
        "spark_df.show()"
      ],
      "metadata": {
        "colab": {
          "base_uri": "https://localhost:8080/"
        },
        "id": "KGUU3jzY1Afe",
        "outputId": "7429c142-a05d-4c3e-b190-cb9d8a8d83d2"
      },
      "execution_count": null,
      "outputs": [
        {
          "output_type": "stream",
          "name": "stdout",
          "text": [
            "+--------------------+----------------+\n",
            "|                text|       sentiment|\n",
            "+--------------------+----------------+\n",
            "|It wouldn’t be su...|        negative|\n",
            "|Latest, another j...|        negative|\n",
            "|@niubi Their pare...|neutral or mixed|\n",
            "|Confusion as #WHO...|        negative|\n",
            "|6 provinces outsi...|        positive|\n",
            "|😷?\n",
            "\n",
            "“Masks are u...|        negative|\n",
            "|What China eats i...|        negative|\n",
            "|So the outbreak m...|        negative|\n",
            "|@jorge_guajardo @...|        negative|\n",
            "|@zlj517 Amazing ,...|        positive|\n",
            "|Prof @gmleunghku ...|        negative|\n",
            "|@IncomeDisparity ...|        negative|\n",
            "|Hong Kong actor L...|        positive|\n",
            "|Despite the lack ...|        negative|\n",
            "|Funny but so true...|        positive|\n",
            "|#WHO encouraged t...|        negative|\n",
            "|Foreigners prepar...|        negative|\n",
            "|@SalonTrans @Solo...|neutral or mixed|\n",
            "|Wuhan is just a m...|neutral or mixed|\n",
            "|@GuoLibrary The r...|   very negative|\n",
            "+--------------------+----------------+\n",
            "only showing top 20 rows\n",
            "\n"
          ]
        }
      ]
    },
    {
      "cell_type": "code",
      "source": [
        "import pyspark.sql.functions as F\n",
        "spark_df = spark_df.withColumn('text',F.regexp_replace('text',r'http\\S+',''))\n",
        "spark_df = spark_df.withColumn('text',F.regexp_replace('text','@\\w+',''))\n",
        "spark_df = spark_df.withColumn('text',F.regexp_replace('text','#',''))\n",
        "spark_df = spark_df.withColumn('text',F.regexp_replace('text','RT',''))\n",
        "spark_df = spark_df.withColumn('text',F.regexp_replace('text','&amp;',''))\n",
        "spark_df = spark_df.withColumn('text',F.regexp_replace('text','&quot;',''))\n",
        "spark_df = spark_df.withColumn('text',F.regexp_replace('text','&gt',''))\n",
        "spark_df = spark_df.withColumn('text',F.regexp_replace('text','&lt',''))\n"
      ],
      "metadata": {
        "id": "SefaLx5fbxHc"
      },
      "execution_count": null,
      "outputs": []
    },
    {
      "cell_type": "code",
      "source": [
        "spark_df_updated = spark_df.withColumn(\"sentiments\",\n",
        "       when((col(\"sentiment\") == \"very negative\"), \"negative\")\n",
        "      .when((col(\"sentiment\") == \"very positive\"), \"positive\")\n",
        "      .when((col(\"sentiment\") == \"neutral or mixed\"), \"neutral\")\n",
        "      .otherwise(col(\"sentiment\"))).selectExpr('text','sentiments')"
      ],
      "metadata": {
        "id": "JtFKIl842YtL"
      },
      "execution_count": null,
      "outputs": []
    },
    {
      "cell_type": "code",
      "source": [
        "# Remove neutral\n",
        "spark_df_filtered=spark_df_updated.filter(spark_df_updated.sentiments != \"neutral\")"
      ],
      "metadata": {
        "id": "9-lEkcpedcIQ"
      },
      "execution_count": null,
      "outputs": []
    },
    {
      "cell_type": "code",
      "source": [
        "spark_df_filtered.groupBy(\"sentiments\") \\\n",
        "    .count() \\\n",
        "    .orderBy(col(\"count\").desc()) \\\n",
        "    .show()"
      ],
      "metadata": {
        "colab": {
          "base_uri": "https://localhost:8080/"
        },
        "id": "61bOeOjWjwKI",
        "outputId": "bdd9f21d-698d-4e83-9f46-fdc9054474ab"
      },
      "execution_count": null,
      "outputs": [
        {
          "output_type": "stream",
          "name": "stdout",
          "text": [
            "+----------+-----+\n",
            "|sentiments|count|\n",
            "+----------+-----+\n",
            "|  negative|70685|\n",
            "|  positive|32474|\n",
            "+----------+-----+\n",
            "\n"
          ]
        }
      ]
    },
    {
      "cell_type": "markdown",
      "source": [
        "# Undersampling"
      ],
      "metadata": {
        "id": "90NJJsPmepXR"
      }
    },
    {
      "cell_type": "code",
      "source": [
        "# Undersampling\n",
        "major_df = spark_df_filtered.filter(col(\"sentiments\") == \"negative\")\n",
        "minor_df = spark_df_filtered.filter(col(\"sentiments\") == \"positive\")\n",
        "ratio = int(major_df.count()/minor_df.count())\n",
        "print(\"ratio: {}\".format(ratio))\n",
        "sampled_majority_df = major_df.sample(False,1/ratio)\n",
        "combined_df = sampled_majority_df.unionAll(minor_df)"
      ],
      "metadata": {
        "colab": {
          "base_uri": "https://localhost:8080/"
        },
        "id": "9eFF1736edyZ",
        "outputId": "a294177b-13b2-42fc-cee2-0445da9e1147"
      },
      "execution_count": null,
      "outputs": [
        {
          "output_type": "stream",
          "name": "stdout",
          "text": [
            "ratio: 2\n"
          ]
        }
      ]
    },
    {
      "cell_type": "code",
      "source": [
        "combined_df.groupBy(\"sentiments\") \\\n",
        "    .count() \\\n",
        "    .orderBy(col(\"count\").desc()) \\\n",
        "    .show()"
      ],
      "metadata": {
        "colab": {
          "base_uri": "https://localhost:8080/"
        },
        "id": "Gz1Z030ZhUA5",
        "outputId": "c8a2b41d-a39d-49ac-a1b5-a51171b3fa12"
      },
      "execution_count": null,
      "outputs": [
        {
          "output_type": "stream",
          "name": "stdout",
          "text": [
            "+----------+-----+\n",
            "|sentiments|count|\n",
            "+----------+-----+\n",
            "|  negative|35215|\n",
            "|  positive|32474|\n",
            "+----------+-----+\n",
            "\n"
          ]
        }
      ]
    },
    {
      "cell_type": "markdown",
      "source": [
        "# Training the model"
      ],
      "metadata": {
        "id": "nX_gNatQjzJW"
      }
    },
    {
      "cell_type": "code",
      "source": [
        "def get_embeddings(type):\n",
        "  if type == \"glove\":\n",
        "    return WordEmbeddingsModel.pretrained().setInputCols([\"document\",\"lemma\"]).setOutputCol(\"embeddings\").setCaseSensitive(False)\n",
        "  elif type == \"bert\":\n",
        "    return BertEmbeddings.pretrained('bert_base_cased', 'en').setInputCols([\"document\",'lemma']).setOutputCol(\"embeddings\")\n",
        "  elif type == \"elmo\":\n",
        "    return ElmoEmbeddings.pretrained('elmo', 'en').setInputCols([\"document\",'lemma']).setOutputCol(\"embeddings\")"
      ],
      "metadata": {
        "id": "Va7fUa8LkCIn"
      },
      "execution_count": null,
      "outputs": []
    },
    {
      "cell_type": "code",
      "source": [
        "documentAssembler = DocumentAssembler().setInputCol(\"text\").setOutputCol(\"document\").setCleanupMode(\"shrink\")\n",
        "tokenizer = Tokenizer().setInputCols([\"document\"]).setOutputCol(\"token\")\n",
        "normalizer = Normalizer().setInputCols([\"token\"]).setOutputCol(\"normalized\")\n",
        "stopwords_cleaner = StopWordsCleaner().setInputCols([\"normalized\"]).setOutputCol(\"cleanTokens\").setCaseSensitive(False)\n",
        "lemma = LemmatizerModel.pretrained(\"lemma_antbnc\").setInputCols([\"cleanTokens\"]).setOutputCol(\"lemma\")\n",
        "word_embeddings = get_embeddings(\"bert\")\n",
        "embeddings_sentence = SentenceEmbeddings().setInputCols([\"document\",\"embeddings\"]).setOutputCol(\"sentence_embeddings\").setPoolingStrategy(\"AVERAGE\")\n"
      ],
      "metadata": {
        "id": "Zm-T-GZXstHX",
        "colab": {
          "base_uri": "https://localhost:8080/"
        },
        "outputId": "ab59e1d5-6db3-4a2a-8f5e-41c186953b2f"
      },
      "execution_count": null,
      "outputs": [
        {
          "output_type": "stream",
          "name": "stdout",
          "text": [
            "lemma_antbnc download started this may take some time.\n",
            "Approximate size to download 907.6 KB\n",
            "[OK!]\n",
            "bert_base_cased download started this may take some time.\n",
            "Approximate size to download 389.1 MB\n",
            "[OK!]\n"
          ]
        }
      ]
    },
    {
      "cell_type": "code",
      "source": [
        "classifierdl = ClassifierDLApproach()\\\n",
        "               .setInputCols([\"sentence_embeddings\"])\\\n",
        "               .setOutputCol(\"class\")\\\n",
        "               .setLabelColumn(\"sentiments\")\\\n",
        "               .setBatchSize(64)\\\n",
        "               .setMaxEpochs(10)\\\n",
        "               .setLr(1e-3)\\\n",
        "               .setEnableOutputLogs(True) "
      ],
      "metadata": {
        "id": "N_iNopKAzhb4"
      },
      "execution_count": null,
      "outputs": []
    },
    {
      "cell_type": "code",
      "source": [
        "clf_pipeline = Pipeline(stages=[documentAssembler,tokenizer,normalizer,stopwords_cleaner,lemma,word_embeddings,embeddings_sentence,classifierdl])"
      ],
      "metadata": {
        "id": "XLVIGWyM0C2e"
      },
      "execution_count": null,
      "outputs": []
    },
    {
      "cell_type": "code",
      "source": [
        "train, test = combined_df.randomSplit([0.7, 0.3], seed=42)"
      ],
      "metadata": {
        "id": "hlN1P3mB0yS-"
      },
      "execution_count": null,
      "outputs": []
    },
    {
      "cell_type": "code",
      "source": [
        "clf_pipelineModel = clf_pipeline.fit(train)"
      ],
      "metadata": {
        "id": "stIKtSzY03Um"
      },
      "execution_count": null,
      "outputs": []
    },
    {
      "cell_type": "code",
      "source": [
        "preds = clf_pipelineModel.transform(test)"
      ],
      "metadata": {
        "id": "ZIR3-Mjh49bY"
      },
      "execution_count": null,
      "outputs": []
    },
    {
      "cell_type": "code",
      "source": [
        "preds.select('text','sentiments','class.result').show(10,truncate=80)"
      ],
      "metadata": {
        "colab": {
          "base_uri": "https://localhost:8080/"
        },
        "id": "SoLwoFc25ET7",
        "outputId": "3aa7cbf7-90fe-47d2-8f4a-cdb63de173e6"
      },
      "execution_count": null,
      "outputs": [
        {
          "output_type": "stream",
          "name": "stdout",
          "text": [
            "+--------------------------------------------------------------------------------+----------+----------+\n",
            "|                                                                            text|sentiments|    result|\n",
            "+--------------------------------------------------------------------------------+----------+----------+\n",
            "|                           \n",
            "\n",
            "The world need to THANKS Wuhan P4 virus laboratory.|  negative|[negative]|\n",
            "|\n",
            "\n",
            "wars wuhan virus against the world \n",
            "job done by CCP and WHO  and the world ...|  negative|[negative]|\n",
            "|\n",
            "I  have been trapped in hubei for two months. you politicians can attack eac...|  negative|[negative]|\n",
            "|\n",
            "Preprint. Research suggests that had China intervened 3 weeks earlier, infec...|  negative|[negative]|\n",
            "|                                  \n",
            "\n",
            "Blame CCP for the coverup and this pandemic.|  negative|[negative]|\n",
            "|                                       \n",
            "\n",
            "Correction: The data is as of the 20th.|  negative|[negative]|\n",
            "| \n",
            "\n",
            "I rest my case. They knew, miscalculated, didn't know an iPhone is NOT pro...|  negative|[negative]|\n",
            "| \n",
            "\n",
            "Watching the daily increase in Covid19 cases in HK is scary. However, a mo...|  negative|[negative]|\n",
            "| \n",
            "Buddy, please talk to Sánchez to convince him to get money and leave our cl...|  negative|[negative]|\n",
            "| \n",
            "Did you hear that?\n",
            "Racist Chinese Vlogger | Wode Maya has a strong message ...|  negative|[negative]|\n",
            "+--------------------------------------------------------------------------------+----------+----------+\n",
            "only showing top 10 rows\n",
            "\n"
          ]
        }
      ]
    },
    {
      "cell_type": "code",
      "source": [
        "\n",
        "df = clf_pipelineModel.transform(test).select('text','sentiments','class.result').toPandas()\n",
        "df['result'] = df['result'].apply(lambda x:x[0])\n"
      ],
      "metadata": {
        "id": "vECPZ2RZ5Vse"
      },
      "execution_count": null,
      "outputs": []
    },
    {
      "cell_type": "code",
      "source": [
        "from sklearn.metrics import classification_report, accuracy_score, f1_score,roc_auc_score\n",
        "print(\"Classification report\")\n",
        "print(classification_report(df.sentiments,df.result))\n",
        "print('\\n')\n",
        "print(\"Accuracy Metrics\")\n",
        "print(accuracy_score(df.sentiments,df.result))\n",
        "print('\\n')\n"
      ],
      "metadata": {
        "colab": {
          "base_uri": "https://localhost:8080/"
        },
        "id": "BIubmQ0B6t6t",
        "outputId": "82a01c1d-fb21-4554-e959-71adb7ea2f63"
      },
      "execution_count": null,
      "outputs": [
        {
          "output_type": "stream",
          "name": "stdout",
          "text": [
            "Classification report\n",
            "              precision    recall  f1-score   support\n",
            "\n",
            "    negative       0.80      0.82      0.81     10290\n",
            "    positive       0.80      0.78      0.79      9686\n",
            "\n",
            "    accuracy                           0.80     19976\n",
            "   macro avg       0.80      0.80      0.80     19976\n",
            "weighted avg       0.80      0.80      0.80     19976\n",
            "\n",
            "\n",
            "\n",
            "Accuracy Metrics\n",
            "0.8003604325190228\n",
            "\n",
            "\n"
          ]
        }
      ]
    },
    {
      "cell_type": "code",
      "source": [
        "# Save model\n",
        "clf_pipelineModel.stages[-1].write().overwrite().save('/content/drive/MyDrive/CS5425_Big_Data_Project/Models/hk_bert_dl_model')"
      ],
      "metadata": {
        "id": "hnAADK48pVIX"
      },
      "execution_count": null,
      "outputs": []
    }
  ]
}