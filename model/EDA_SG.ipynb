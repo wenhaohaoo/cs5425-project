{
 "cells": [
  {
   "cell_type": "code",
   "execution_count": null,
   "id": "da922737",
   "metadata": {},
   "outputs": [],
   "source": [
    "import pandas as pd\n",
    "import seaborn as sns\n",
    "import matplotlib.pyplot as plt"
   ]
  },
  {
   "cell_type": "code",
   "execution_count": null,
   "id": "1bd839e5",
   "metadata": {},
   "outputs": [],
   "source": [
    "df = pd.read_csv('./Tweets_SG_HK_AUS/singaporeTweets.csv')"
   ]
  },
  {
   "cell_type": "code",
   "execution_count": null,
   "id": "e7695e5c",
   "metadata": {},
   "outputs": [],
   "source": [
    "df.head()"
   ]
  },
  {
   "cell_type": "code",
   "execution_count": null,
   "id": "715f321b",
   "metadata": {},
   "outputs": [],
   "source": [
    "df.describe()"
   ]
  },
  {
   "cell_type": "code",
   "execution_count": null,
   "id": "68c92301",
   "metadata": {},
   "outputs": [],
   "source": [
    "def return_missing_values(data_frame):\n",
    "    missing_values = data_frame.isnull().sum()/len(data_frame)\n",
    "    missing_values = missing_values[missing_values>0]\n",
    "    missing_values.sort_values(inplace=True)\n",
    "    return missing_values\n",
    "\n",
    "def plot_missing_values(data_frame):\n",
    "    missing_values = return_missing_values(data_frame)\n",
    "    missing_values = missing_values.to_frame()\n",
    "    missing_values.columns = ['count']\n",
    "    missing_values.index.names = ['Name']\n",
    "    missing_values['Name'] = missing_values.index\n",
    "    sns.set(style='darkgrid')\n",
    "    sns.barplot(x='Name', y='count', data=missing_values)\n",
    "    plt.xticks(rotation=90)\n",
    "    plt.show()"
   ]
  },
  {
   "cell_type": "code",
   "execution_count": null,
   "id": "728fd5a0",
   "metadata": {},
   "outputs": [],
   "source": [
    "return_missing_values(df)"
   ]
  },
  {
   "cell_type": "code",
   "execution_count": null,
   "id": "f83d0f65",
   "metadata": {},
   "outputs": [],
   "source": [
    "df = df.dropna()"
   ]
  },
  {
   "cell_type": "code",
   "execution_count": null,
   "id": "ae75f6de",
   "metadata": {},
   "outputs": [],
   "source": [
    "import nltk\n",
    "nltk.download('stopwords')\n",
    "from string import punctuation\n",
    "from nltk.corpus import stopwords\n",
    "print(stopwords.words('english')[10:15])\n",
    "\n",
    "def punctuation_stopwords_removal(sms):\n",
    "    # filters charecter-by-charecter : ['h', 'e', 'e', 'l', 'o', 'o', ' ', 'm', 'y', ' ', 'n', 'a', 'm', 'e', ' ', 'i', 's', ' ', 'p', 'u', 'r', 'v', 'a']\n",
    "    remove_punctuation = [ch for ch in sms if ch not in punctuation]\n",
    "    # convert them back to sentences and split into words\n",
    "    remove_punctuation = \"\".join(remove_punctuation).split()\n",
    "    filtered_sms = [word.lower() for word in remove_punctuation if word.lower() not in stopwords.words('english')]\n",
    "    return filtered_sms"
   ]
  },
  {
   "cell_type": "code",
   "execution_count": null,
   "id": "4c8303c3",
   "metadata": {},
   "outputs": [],
   "source": [
    "from collections import Counter\n",
    "\n",
    "def draw_bar_graph_for_text_visualization(df):\n",
    "    df.loc[:, 'text'] = df['text'].apply(punctuation_stopwords_removal)\n",
    "    loc_tweets_curated = df['text'].tolist()\n",
    "    loc_tweet_list = []\n",
    "    for sublist in loc_tweets_curated:\n",
    "        for word in sublist:\n",
    "            loc_tweet_list.append(word)\n",
    "    loc_tweet_count = Counter(loc_tweet_list)\n",
    "    loc_top_30_words = pd.DataFrame(loc_tweet_count.most_common(30), columns=['word', 'Counter'])\n",
    "    fig, ax = plt.subplots(figsize=(20, 6))\n",
    "    sns.barplot(x='word', y='Counter', \n",
    "                data=loc_top_30_words, ax=ax)\n",
    "    plt.title(\"Top 30 Most Prevelant Words in Singapore\")\n",
    "    plt.xticks(rotation='vertical');"
   ]
  },
  {
   "cell_type": "code",
   "execution_count": null,
   "id": "4aaa3891",
   "metadata": {},
   "outputs": [],
   "source": [
    "from wordcloud import WordCloud, STOPWORDS\n",
    "def draw_word_cloud(df, title):\n",
    "    df.loc[:, 'text'] = df['text'].apply(punctuation_stopwords_removal)\n",
    "    word_cloud = WordCloud(\n",
    "                    background_color='white',\n",
    "                    stopwords=set(STOPWORDS),\n",
    "                    max_words=50,\n",
    "                    max_font_size=40,\n",
    "                    scale=5,\n",
    "                    random_state=1).generate(str(df['text']))\n",
    "    fig = plt.figure(1, figsize=(10,10))\n",
    "    plt.axis('off')\n",
    "    fig.suptitle(title, fontsize=20)\n",
    "    fig.subplots_adjust(top=2.3)\n",
    "    plt.imshow(word_cloud)\n",
    "    plt.show()"
   ]
  },
  {
   "cell_type": "code",
   "execution_count": null,
   "id": "860c36a4",
   "metadata": {},
   "outputs": [],
   "source": [
    "draw_bar_graph_for_text_visualization(df)"
   ]
  },
  {
   "cell_type": "code",
   "execution_count": null,
   "id": "c4f9745f",
   "metadata": {},
   "outputs": [],
   "source": [
    "draw_word_cloud(df, 'Word Cloud of top 50 words in Hong Kong')"
   ]
  }
 ],
 "metadata": {
  "kernelspec": {
   "display_name": "Python 3 (ipykernel)",
   "language": "python",
   "name": "python3"
  },
  "language_info": {
   "codemirror_mode": {
    "name": "ipython",
    "version": 3
   },
   "file_extension": ".py",
   "mimetype": "text/x-python",
   "name": "python",
   "nbconvert_exporter": "python",
   "pygments_lexer": "ipython3",
   "version": "3.7.10"
  }
 },
 "nbformat": 4,
 "nbformat_minor": 5
}
