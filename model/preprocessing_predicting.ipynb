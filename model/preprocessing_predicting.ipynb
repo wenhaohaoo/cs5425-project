{
  "nbformat": 4,
  "nbformat_minor": 0,
  "metadata": {
    "colab": {
      "name": "preprocessing_predicting.ipynb",
      "provenance": [],
      "collapsed_sections": []
    },
    "kernelspec": {
      "name": "python3",
      "display_name": "Python 3"
    },
    "language_info": {
      "name": "python"
    },
    "accelerator": "GPU"
  },
  "cells": [
    {
      "cell_type": "code",
      "execution_count": null,
      "metadata": {
        "colab": {
          "base_uri": "https://localhost:8080/"
        },
        "id": "LTZ9dWXp4hYH",
        "outputId": "b15e7177-2052-4fb6-e6d7-6759a73e3e23"
      },
      "outputs": [
        {
          "output_type": "stream",
          "name": "stdout",
          "text": [
            "Mounted at /content/drive\n"
          ]
        }
      ],
      "source": [
        "from google.colab import drive \n",
        "drive.mount('/content/drive')"
      ]
    },
    {
      "cell_type": "code",
      "source": [
        "!wget http://setup.johnsnowlabs.com/colab.sh -O - | bash"
      ],
      "metadata": {
        "colab": {
          "base_uri": "https://localhost:8080/"
        },
        "id": "P52B2pKGGqf_",
        "outputId": "295f01fa-7177-4c05-8576-02dfb787fc4e"
      },
      "execution_count": null,
      "outputs": [
        {
          "output_type": "stream",
          "name": "stdout",
          "text": [
            "--2022-04-18 05:20:51--  http://setup.johnsnowlabs.com/colab.sh\n",
            "Resolving setup.johnsnowlabs.com (setup.johnsnowlabs.com)... 51.158.130.125\n",
            "Connecting to setup.johnsnowlabs.com (setup.johnsnowlabs.com)|51.158.130.125|:80... connected.\n",
            "HTTP request sent, awaiting response... 302 Found\n",
            "Location: https://setup.johnsnowlabs.com/colab.sh [following]\n",
            "--2022-04-18 05:20:52--  https://setup.johnsnowlabs.com/colab.sh\n",
            "Connecting to setup.johnsnowlabs.com (setup.johnsnowlabs.com)|51.158.130.125|:443... connected.\n",
            "HTTP request sent, awaiting response... 302 Moved Temporarily\n",
            "Location: https://raw.githubusercontent.com/JohnSnowLabs/spark-nlp/master/scripts/colab_setup.sh [following]\n",
            "--2022-04-18 05:20:52--  https://raw.githubusercontent.com/JohnSnowLabs/spark-nlp/master/scripts/colab_setup.sh\n",
            "Resolving raw.githubusercontent.com (raw.githubusercontent.com)... 185.199.108.133, 185.199.109.133, 185.199.111.133, ...\n",
            "Connecting to raw.githubusercontent.com (raw.githubusercontent.com)|185.199.108.133|:443... connected.\n",
            "HTTP request sent, awaiting response... 200 OK\n",
            "Length: 1453 (1.4K) [text/plain]\n",
            "Saving to: ‘STDOUT’\n",
            "\n",
            "-                   100%[===================>]   1.42K  --.-KB/s    in 0s      \n",
            "\n",
            "2022-04-18 05:20:52 (31.0 MB/s) - written to stdout [1453/1453]\n",
            "\n",
            "setup Colab for PySpark 3.0.3 and Spark NLP 3.4.3\n",
            "Installing PySpark 3.0.3 and Spark NLP 3.4.3\n",
            "\u001b[K     |████████████████████████████████| 209.1 MB 62 kB/s \n",
            "\u001b[K     |████████████████████████████████| 144 kB 30.2 MB/s \n",
            "\u001b[K     |████████████████████████████████| 198 kB 47.7 MB/s \n",
            "\u001b[?25h  Building wheel for pyspark (setup.py) ... \u001b[?25l\u001b[?25hdone\n"
          ]
        }
      ]
    },
    {
      "cell_type": "code",
      "source": [
        "import pandas as pd\n",
        "from sparknlp.base import *\n",
        "from sparknlp.annotator import *\n",
        "from pyspark.sql.functions import *\n",
        "import pyspark.sql.functions as F\n",
        "import sparknlp\n",
        "from pyspark.ml.pipeline import PipelineModel\n",
        "\n",
        "spark = sparknlp.start(gpu=True)"
      ],
      "metadata": {
        "id": "zzZehwr6Gt7k"
      },
      "execution_count": null,
      "outputs": []
    },
    {
      "cell_type": "code",
      "source": [
        "def predict(tweet):\n",
        "\n",
        "  sample_df = spark.createDataFrame([[str(tweet)]]).toDF('text')\n",
        "\n",
        "  sample_df = sample_df.withColumn('text',F.regexp_replace('text',r'http\\S+',''))\n",
        "  sample_df = sample_df.withColumn('text',F.regexp_replace('text','@\\w+',''))\n",
        "  sample_df = sample_df.withColumn('text',F.regexp_replace('text','#',''))\n",
        "  sample_df = sample_df.withColumn('text',F.regexp_replace('text','RT',''))\n",
        "  sample_df = sample_df.withColumn('text',F.regexp_replace('text','&amp;',''))\n",
        "  sample_df = sample_df.withColumn('text',F.regexp_replace('text','&quot;',''))\n",
        "  sample_df = sample_df.withColumn('text',F.regexp_replace('text','&gt',''))\n",
        "  sample_df = sample_df.withColumn('text',F.regexp_replace('text','&lt',''))\n",
        "\n",
        "  result = pipeline_sg_svm.transform(sample_df)\n",
        "  sentiment = result.select(\"prediction\").first()[0]\n",
        "  if (sentiment == 1):\n",
        "    print(\"Positive\")\n",
        "  else:\n",
        "    print(\"Negative\")"
      ],
      "metadata": {
        "id": "pFbM-wVZHEyT"
      },
      "execution_count": null,
      "outputs": []
    },
    {
      "cell_type": "code",
      "source": [
        "pipeline_sg_svm= PipelineModel.load(\"/content/drive/MyDrive/BigData/Models/svm_sg\")"
      ],
      "metadata": {
        "id": "GN2KDx_sHD_C"
      },
      "execution_count": null,
      "outputs": []
    },
    {
      "cell_type": "code",
      "source": [
        "predict(\"Im having fun\")"
      ],
      "metadata": {
        "colab": {
          "base_uri": "https://localhost:8080/"
        },
        "id": "B6mj5Wc2HIU1",
        "outputId": "9b53c1e4-6723-4d18-eddd-a032c6a604bb"
      },
      "execution_count": null,
      "outputs": [
        {
          "output_type": "stream",
          "name": "stdout",
          "text": [
            "Positive\n"
          ]
        }
      ]
    }
  ]
}